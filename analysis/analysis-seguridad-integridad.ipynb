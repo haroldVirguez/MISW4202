{
 "cells": [
  {
   "metadata": {
    "ExecuteTime": {
     "end_time": "2025-09-28T22:49:03.925695Z",
     "start_time": "2025-09-28T22:48:59.091826Z"
    }
   },
   "cell_type": "code",
   "source": [
    "import re, json, pandas as pd\n",
    "from pathlib import Path"
   ],
   "id": "f6429dd45243a132",
   "outputs": [],
   "execution_count": 3
  },
  {
   "metadata": {
    "ExecuteTime": {
     "end_time": "2025-09-28T23:07:08.253648Z",
     "start_time": "2025-09-28T23:07:08.246028Z"
    }
   },
   "cell_type": "code",
   "source": [
    "log_path = Path(\"../logs/autorizador/autorizador.log\")\n",
    "\n",
    "events = []\n",
    "\n",
    "with log_path.open(encoding=\"utf-8\", errors=\"ignore\") as f:\n",
    "    lines = f.readlines()\n",
    "\n",
    "current_event = {}\n",
    "for ln in lines:\n",
    "    # Detectar request a validate-signature\n",
    "    if \"Incoming request: POST /validate-signature\" in ln:\n",
    "        current_event = {\"test1_firma_valida\": None, \"test2_tampered_payload\": False, \"test3_tampered_firma\": None, \"case\": None}\n",
    "\n",
    "    if \"Payload:\" in ln and current_event:\n",
    "        txt = ln.split(\"Payload:\",1)[1].strip()\n",
    "        safe = (txt.replace(\"'\", '\"')\n",
    "                   .replace(\"True\",\"true\")\n",
    "                   .replace(\"False\",\"false\")\n",
    "                   .replace(\"None\",\"null\"))\n",
    "        try:\n",
    "            payload = json.loads(safe)\n",
    "        except Exception:\n",
    "            payload = {}\n",
    "        direccion = (payload.get(\"payload\") or {}).get(\"direccion\",\"\")\n",
    "        if \"ALTERADA\" in direccion.upper():\n",
    "            current_event[\"test2_tampered_payload\"] = True\n",
    "\n",
    "    if \"Response JSON:\" in ln and current_event:\n",
    "        txt = ln.split(\"Response JSON:\",1)[1].strip()\n",
    "        safe = (txt.replace(\"'\", '\"')\n",
    "                   .replace(\"True\",\"true\")\n",
    "                   .replace(\"False\",\"false\")\n",
    "                   .replace(\"None\",\"null\"))\n",
    "        try:\n",
    "            resp = json.loads(safe)\n",
    "        except Exception:\n",
    "            resp = {}\n",
    "        current_event[\"test1_firma_valida\"] = resp.get(\"firma_valida\")\n",
    "\n",
    "        # Clasificar caso\n",
    "        if current_event[\"test1_firma_valida\"]:\n",
    "            current_event[\"case\"] = \"firma_valida\"\n",
    "            expected = True\n",
    "        else:\n",
    "            if current_event[\"test2_tampered_payload\"]:\n",
    "                current_event[\"case\"] = \"tampered_payload\"\n",
    "            else:\n",
    "                current_event[\"case\"] = \"tampered_firma\"\n",
    "                current_event[\"test3_tampered_firma\"] = True\n",
    "            expected = False\n",
    "\n",
    "        current_event[\"test_ok\"] = (current_event[\"test1_firma_valida\"] == expected)\n",
    "        events.append(current_event)\n",
    "        current_event = {}"
   ],
   "id": "f8a2dab097dcee08",
   "outputs": [],
   "execution_count": 18
  },
  {
   "metadata": {
    "ExecuteTime": {
     "end_time": "2025-09-28T23:07:10.948600Z",
     "start_time": "2025-09-28T23:07:10.941092Z"
    }
   },
   "cell_type": "code",
   "source": [
    "# DataFrame con resultados\n",
    "df = pd.DataFrame(events)\n",
    "display(df)"
   ],
   "id": "afb35da858e1321e",
   "outputs": [
    {
     "data": {
      "text/plain": [
       "     test1_firma_valida  test2_tampered_payload test3_tampered_firma  \\\n",
       "0                  True                   False                 None   \n",
       "1                 False                    True                 None   \n",
       "2                 False                   False                 True   \n",
       "3                  True                   False                 None   \n",
       "4                  True                   False                 None   \n",
       "..                  ...                     ...                  ...   \n",
       "102               False                   False                 True   \n",
       "103                True                   False                 None   \n",
       "104                True                   False                 None   \n",
       "105                True                   False                 None   \n",
       "106                True                   False                 None   \n",
       "\n",
       "                 case  test_ok  \n",
       "0        firma_valida     True  \n",
       "1    tampered_payload     True  \n",
       "2      tampered_firma     True  \n",
       "3        firma_valida     True  \n",
       "4        firma_valida     True  \n",
       "..                ...      ...  \n",
       "102    tampered_firma     True  \n",
       "103      firma_valida     True  \n",
       "104      firma_valida     True  \n",
       "105      firma_valida     True  \n",
       "106      firma_valida     True  \n",
       "\n",
       "[107 rows x 5 columns]"
      ],
      "text/html": [
       "<div>\n",
       "<style scoped>\n",
       "    .dataframe tbody tr th:only-of-type {\n",
       "        vertical-align: middle;\n",
       "    }\n",
       "\n",
       "    .dataframe tbody tr th {\n",
       "        vertical-align: top;\n",
       "    }\n",
       "\n",
       "    .dataframe thead th {\n",
       "        text-align: right;\n",
       "    }\n",
       "</style>\n",
       "<table border=\"1\" class=\"dataframe\">\n",
       "  <thead>\n",
       "    <tr style=\"text-align: right;\">\n",
       "      <th></th>\n",
       "      <th>test1_firma_valida</th>\n",
       "      <th>test2_tampered_payload</th>\n",
       "      <th>test3_tampered_firma</th>\n",
       "      <th>case</th>\n",
       "      <th>test_ok</th>\n",
       "    </tr>\n",
       "  </thead>\n",
       "  <tbody>\n",
       "    <tr>\n",
       "      <th>0</th>\n",
       "      <td>True</td>\n",
       "      <td>False</td>\n",
       "      <td>None</td>\n",
       "      <td>firma_valida</td>\n",
       "      <td>True</td>\n",
       "    </tr>\n",
       "    <tr>\n",
       "      <th>1</th>\n",
       "      <td>False</td>\n",
       "      <td>True</td>\n",
       "      <td>None</td>\n",
       "      <td>tampered_payload</td>\n",
       "      <td>True</td>\n",
       "    </tr>\n",
       "    <tr>\n",
       "      <th>2</th>\n",
       "      <td>False</td>\n",
       "      <td>False</td>\n",
       "      <td>True</td>\n",
       "      <td>tampered_firma</td>\n",
       "      <td>True</td>\n",
       "    </tr>\n",
       "    <tr>\n",
       "      <th>3</th>\n",
       "      <td>True</td>\n",
       "      <td>False</td>\n",
       "      <td>None</td>\n",
       "      <td>firma_valida</td>\n",
       "      <td>True</td>\n",
       "    </tr>\n",
       "    <tr>\n",
       "      <th>4</th>\n",
       "      <td>True</td>\n",
       "      <td>False</td>\n",
       "      <td>None</td>\n",
       "      <td>firma_valida</td>\n",
       "      <td>True</td>\n",
       "    </tr>\n",
       "    <tr>\n",
       "      <th>...</th>\n",
       "      <td>...</td>\n",
       "      <td>...</td>\n",
       "      <td>...</td>\n",
       "      <td>...</td>\n",
       "      <td>...</td>\n",
       "    </tr>\n",
       "    <tr>\n",
       "      <th>102</th>\n",
       "      <td>False</td>\n",
       "      <td>False</td>\n",
       "      <td>True</td>\n",
       "      <td>tampered_firma</td>\n",
       "      <td>True</td>\n",
       "    </tr>\n",
       "    <tr>\n",
       "      <th>103</th>\n",
       "      <td>True</td>\n",
       "      <td>False</td>\n",
       "      <td>None</td>\n",
       "      <td>firma_valida</td>\n",
       "      <td>True</td>\n",
       "    </tr>\n",
       "    <tr>\n",
       "      <th>104</th>\n",
       "      <td>True</td>\n",
       "      <td>False</td>\n",
       "      <td>None</td>\n",
       "      <td>firma_valida</td>\n",
       "      <td>True</td>\n",
       "    </tr>\n",
       "    <tr>\n",
       "      <th>105</th>\n",
       "      <td>True</td>\n",
       "      <td>False</td>\n",
       "      <td>None</td>\n",
       "      <td>firma_valida</td>\n",
       "      <td>True</td>\n",
       "    </tr>\n",
       "    <tr>\n",
       "      <th>106</th>\n",
       "      <td>True</td>\n",
       "      <td>False</td>\n",
       "      <td>None</td>\n",
       "      <td>firma_valida</td>\n",
       "      <td>True</td>\n",
       "    </tr>\n",
       "  </tbody>\n",
       "</table>\n",
       "<p>107 rows × 5 columns</p>\n",
       "</div>"
      ]
     },
     "metadata": {},
     "output_type": "display_data",
     "jetTransient": {
      "display_id": null
     }
    }
   ],
   "execution_count": 19
  },
  {
   "metadata": {
    "ExecuteTime": {
     "end_time": "2025-09-28T23:07:15.457395Z",
     "start_time": "2025-09-28T23:07:15.450771Z"
    }
   },
   "cell_type": "code",
   "source": [
    "# Resumen por caso\n",
    "summary = (\n",
    "    df.groupby(\"case\")[\"test_ok\"]\n",
    "      .agg(total=\"count\", passed=\"sum\")\n",
    "      .reset_index()\n",
    ")\n",
    "summary[\"pass_rate_%\"] = (summary[\"passed\"] / summary[\"total\"] * 100).round(2)\n",
    "display(summary)"
   ],
   "id": "bca73f2f8953beba",
   "outputs": [
    {
     "data": {
      "text/plain": [
       "               case  total  passed  pass_rate_%\n",
       "0      firma_valida     53      53        100.0\n",
       "1    tampered_firma     27      27        100.0\n",
       "2  tampered_payload     27      27        100.0"
      ],
      "text/html": [
       "<div>\n",
       "<style scoped>\n",
       "    .dataframe tbody tr th:only-of-type {\n",
       "        vertical-align: middle;\n",
       "    }\n",
       "\n",
       "    .dataframe tbody tr th {\n",
       "        vertical-align: top;\n",
       "    }\n",
       "\n",
       "    .dataframe thead th {\n",
       "        text-align: right;\n",
       "    }\n",
       "</style>\n",
       "<table border=\"1\" class=\"dataframe\">\n",
       "  <thead>\n",
       "    <tr style=\"text-align: right;\">\n",
       "      <th></th>\n",
       "      <th>case</th>\n",
       "      <th>total</th>\n",
       "      <th>passed</th>\n",
       "      <th>pass_rate_%</th>\n",
       "    </tr>\n",
       "  </thead>\n",
       "  <tbody>\n",
       "    <tr>\n",
       "      <th>0</th>\n",
       "      <td>firma_valida</td>\n",
       "      <td>53</td>\n",
       "      <td>53</td>\n",
       "      <td>100.0</td>\n",
       "    </tr>\n",
       "    <tr>\n",
       "      <th>1</th>\n",
       "      <td>tampered_firma</td>\n",
       "      <td>27</td>\n",
       "      <td>27</td>\n",
       "      <td>100.0</td>\n",
       "    </tr>\n",
       "    <tr>\n",
       "      <th>2</th>\n",
       "      <td>tampered_payload</td>\n",
       "      <td>27</td>\n",
       "      <td>27</td>\n",
       "      <td>100.0</td>\n",
       "    </tr>\n",
       "  </tbody>\n",
       "</table>\n",
       "</div>"
      ]
     },
     "metadata": {},
     "output_type": "display_data",
     "jetTransient": {
      "display_id": null
     }
    }
   ],
   "execution_count": 20
  },
  {
   "metadata": {
    "ExecuteTime": {
     "end_time": "2025-09-28T23:07:28.367280Z",
     "start_time": "2025-09-28T23:07:28.363907Z"
    }
   },
   "cell_type": "code",
   "source": [
    "# Resumen global\n",
    "overall = {\n",
    "    \"total_tests\": len(df),\n",
    "    \"passed\": int(df[\"test_ok\"].sum()),\n",
    "    \"overall_pass_rate_%\": round(df[\"test_ok\"].mean()*100,2) if not df.empty else 0\n",
    "}\n",
    "print(overall)"
   ],
   "id": "f76bc4d837736f46",
   "outputs": [
    {
     "name": "stdout",
     "output_type": "stream",
     "text": [
      "{'total_tests': 107, 'passed': 107, 'overall_pass_rate_%': np.float64(100.0)}\n"
     ]
    }
   ],
   "execution_count": 21
  }
 ],
 "metadata": {
  "kernelspec": {
   "display_name": "Python 3",
   "language": "python",
   "name": "python3"
  },
  "language_info": {
   "codemirror_mode": {
    "name": "ipython",
    "version": 2
   },
   "file_extension": ".py",
   "mimetype": "text/x-python",
   "name": "python",
   "nbconvert_exporter": "python",
   "pygments_lexer": "ipython2",
   "version": "2.7.6"
  }
 },
 "nbformat": 4,
 "nbformat_minor": 5
}
