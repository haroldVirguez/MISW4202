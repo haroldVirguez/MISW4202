{
 "cells": [
  {
   "metadata": {
    "ExecuteTime": {
     "end_time": "2025-09-29T01:28:53.376166Z",
     "start_time": "2025-09-29T01:28:53.368008Z"
    }
   },
   "cell_type": "code",
   "source": [
    "import json, ast, pandas as pd\n",
    "from pathlib import Path"
   ],
   "id": "c0053c43e4cefb45",
   "outputs": [],
   "execution_count": 6
  },
  {
   "metadata": {
    "ExecuteTime": {
     "end_time": "2025-09-29T01:28:54.405856Z",
     "start_time": "2025-09-29T01:28:54.401568Z"
    }
   },
   "cell_type": "code",
   "source": [
    "def parse_payload_line(line: str):\n",
    "    \"\"\"Extrae dict del payload a partir de la línea 'Payload: {...}'.\"\"\"\n",
    "    txt = line.split(\"Payload:\", 1)[1].strip()\n",
    "    try:\n",
    "        return ast.literal_eval(txt)  # dict estilo Python\n",
    "    except Exception:\n",
    "        try:\n",
    "            return json.loads(\n",
    "                txt.replace(\"'\", '\"')\n",
    "                   .replace(\" True\", \" true\")\n",
    "                   .replace(\" False\", \" false\")\n",
    "                   .replace(\" None\", \" null\")\n",
    "            )\n",
    "        except Exception:\n",
    "            return {}\n",
    "\n",
    "def parse_response_line(line: str):\n",
    "    \"\"\"Extrae dict de la línea 'Response JSON: {...}'.\"\"\"\n",
    "    txt = line.split(\"Response JSON:\", 1)[1].strip()\n",
    "    try:\n",
    "        return ast.literal_eval(txt)\n",
    "    except Exception:\n",
    "        try:\n",
    "            return json.loads(\n",
    "                txt.replace(\"'\", '\"')\n",
    "                   .replace(\" True\", \" true\")\n",
    "                   .replace(\" False\", \" false\")\n",
    "                   .replace(\" None\", \" null\")\n",
    "            )\n",
    "        except Exception:\n",
    "            return {}"
   ],
   "id": "1f53656e4658faae",
   "outputs": [],
   "execution_count": 7
  },
  {
   "metadata": {
    "ExecuteTime": {
     "end_time": "2025-09-29T01:28:56.487763Z",
     "start_time": "2025-09-29T01:28:56.482946Z"
    }
   },
   "cell_type": "code",
   "source": [
    "log_path = Path(\"../logs/logistica/logistica.log\")  # ajusta según tu notebook\n",
    "lines = log_path.read_text(encoding=\"utf-8\").splitlines()\n",
    "\n",
    "events, current = [], None\n",
    "\n",
    "for line in lines:\n",
    "    if \"Incoming request: POST /entregas\" in line:\n",
    "        current = {\"direccion_original\": None, \"direccion_guardada\": None}\n",
    "    if not current:\n",
    "        continue\n",
    "    if \"Payload:\" in line:\n",
    "        current[\"direccion_original\"] = parse_payload_line(line).get(\"direccion\")\n",
    "    if \"Response JSON:\" in line:\n",
    "        current[\"direccion_guardada\"] = parse_response_line(line).get(\"direccion\")\n",
    "    if 'werkzeug' in line and '\"POST /entregas' in line:\n",
    "        current[\"test_ok\"] = current[\"direccion_original\"] != current[\"direccion_guardada\"]\n",
    "        events.append(current)\n",
    "        current = None"
   ],
   "id": "a3e4e3ba84ea35f2",
   "outputs": [],
   "execution_count": 8
  },
  {
   "metadata": {
    "ExecuteTime": {
     "end_time": "2025-09-29T00:46:23.462878Z",
     "start_time": "2025-09-29T00:46:23.454155Z"
    }
   },
   "cell_type": "code",
   "source": [
    "# DataFrame con resultados\n",
    "df = pd.DataFrame(events)\n",
    "display(df)\n",
    "\n",
    "# resumen\n",
    "total = len(events)\n",
    "passed = sum(1 for e in events if e[\"test_ok\"])\n",
    "print(f\"Total POSTs: {total}, Cifrados OK: {passed}, Cumplimiento: {passed/total*100:.2f}%\")"
   ],
   "id": "809b8221c8526505",
   "outputs": [
    {
     "data": {
      "text/plain": [
       "           direccion_original  \\\n",
       "0    Calle 123 #45-67, Bogotá   \n",
       "1    Calle 123 #45-67, Bogotá   \n",
       "2    Calle 123 #45-67, Bogotá   \n",
       "3    Calle 123 #45-67, Bogotá   \n",
       "4    Calle 123 #45-67, Bogotá   \n",
       "..                        ...   \n",
       "241  Calle 123 #45-67, Bogotá   \n",
       "242  Calle 123 #45-67, Bogotá   \n",
       "243  Calle 123 #45-67, Bogotá   \n",
       "244  Calle 123 #45-67, Bogotá   \n",
       "245  Calle 123 #45-67, Bogotá   \n",
       "\n",
       "                                    direccion_guardada  test_ok  \n",
       "0    a8347e43ea1a3e7a4209e3bec51ccdb1:3aee7ff1b410b...     True  \n",
       "1    52596862a69339915d2e2ce2bc0f75ab:4cc2affe91166...     True  \n",
       "2    217cd26fcda2fcd7d1c44d6fa776ad0c:2e1bbf7c656e8...     True  \n",
       "3    ed6cbd807d4365615d09fb7e25b8fc89:26d524fe0355a...     True  \n",
       "4    3c49a6a980d0c8f244953d85b54060b8:0de6b62dd1e4d...     True  \n",
       "..                                                 ...      ...  \n",
       "241  b773bacd091bcf88c08ee86457db64e3:d163cba6d96a1...     True  \n",
       "242  37270924ab9537cd5dd1d5a215ed6d40:e170be4ff005a...     True  \n",
       "243  c50890229dc7ef9ca28cd3bbb154e58a:3e36d902b9f0f...     True  \n",
       "244  f2412ab4ae68e8968c521c0cbee81a73:b182fdcc3586c...     True  \n",
       "245  ca72978528fbcda936b34153abeda7e5:60f37704a5997...     True  \n",
       "\n",
       "[246 rows x 3 columns]"
      ],
      "text/html": [
       "<div>\n",
       "<style scoped>\n",
       "    .dataframe tbody tr th:only-of-type {\n",
       "        vertical-align: middle;\n",
       "    }\n",
       "\n",
       "    .dataframe tbody tr th {\n",
       "        vertical-align: top;\n",
       "    }\n",
       "\n",
       "    .dataframe thead th {\n",
       "        text-align: right;\n",
       "    }\n",
       "</style>\n",
       "<table border=\"1\" class=\"dataframe\">\n",
       "  <thead>\n",
       "    <tr style=\"text-align: right;\">\n",
       "      <th></th>\n",
       "      <th>direccion_original</th>\n",
       "      <th>direccion_guardada</th>\n",
       "      <th>test_ok</th>\n",
       "    </tr>\n",
       "  </thead>\n",
       "  <tbody>\n",
       "    <tr>\n",
       "      <th>0</th>\n",
       "      <td>Calle 123 #45-67, Bogotá</td>\n",
       "      <td>a8347e43ea1a3e7a4209e3bec51ccdb1:3aee7ff1b410b...</td>\n",
       "      <td>True</td>\n",
       "    </tr>\n",
       "    <tr>\n",
       "      <th>1</th>\n",
       "      <td>Calle 123 #45-67, Bogotá</td>\n",
       "      <td>52596862a69339915d2e2ce2bc0f75ab:4cc2affe91166...</td>\n",
       "      <td>True</td>\n",
       "    </tr>\n",
       "    <tr>\n",
       "      <th>2</th>\n",
       "      <td>Calle 123 #45-67, Bogotá</td>\n",
       "      <td>217cd26fcda2fcd7d1c44d6fa776ad0c:2e1bbf7c656e8...</td>\n",
       "      <td>True</td>\n",
       "    </tr>\n",
       "    <tr>\n",
       "      <th>3</th>\n",
       "      <td>Calle 123 #45-67, Bogotá</td>\n",
       "      <td>ed6cbd807d4365615d09fb7e25b8fc89:26d524fe0355a...</td>\n",
       "      <td>True</td>\n",
       "    </tr>\n",
       "    <tr>\n",
       "      <th>4</th>\n",
       "      <td>Calle 123 #45-67, Bogotá</td>\n",
       "      <td>3c49a6a980d0c8f244953d85b54060b8:0de6b62dd1e4d...</td>\n",
       "      <td>True</td>\n",
       "    </tr>\n",
       "    <tr>\n",
       "      <th>...</th>\n",
       "      <td>...</td>\n",
       "      <td>...</td>\n",
       "      <td>...</td>\n",
       "    </tr>\n",
       "    <tr>\n",
       "      <th>241</th>\n",
       "      <td>Calle 123 #45-67, Bogotá</td>\n",
       "      <td>b773bacd091bcf88c08ee86457db64e3:d163cba6d96a1...</td>\n",
       "      <td>True</td>\n",
       "    </tr>\n",
       "    <tr>\n",
       "      <th>242</th>\n",
       "      <td>Calle 123 #45-67, Bogotá</td>\n",
       "      <td>37270924ab9537cd5dd1d5a215ed6d40:e170be4ff005a...</td>\n",
       "      <td>True</td>\n",
       "    </tr>\n",
       "    <tr>\n",
       "      <th>243</th>\n",
       "      <td>Calle 123 #45-67, Bogotá</td>\n",
       "      <td>c50890229dc7ef9ca28cd3bbb154e58a:3e36d902b9f0f...</td>\n",
       "      <td>True</td>\n",
       "    </tr>\n",
       "    <tr>\n",
       "      <th>244</th>\n",
       "      <td>Calle 123 #45-67, Bogotá</td>\n",
       "      <td>f2412ab4ae68e8968c521c0cbee81a73:b182fdcc3586c...</td>\n",
       "      <td>True</td>\n",
       "    </tr>\n",
       "    <tr>\n",
       "      <th>245</th>\n",
       "      <td>Calle 123 #45-67, Bogotá</td>\n",
       "      <td>ca72978528fbcda936b34153abeda7e5:60f37704a5997...</td>\n",
       "      <td>True</td>\n",
       "    </tr>\n",
       "  </tbody>\n",
       "</table>\n",
       "<p>246 rows × 3 columns</p>\n",
       "</div>"
      ]
     },
     "metadata": {},
     "output_type": "display_data",
     "jetTransient": {
      "display_id": null
     }
    },
    {
     "name": "stdout",
     "output_type": "stream",
     "text": [
      "Total POSTs: 246, Cifrados OK: 246, Cumplimiento: 100.00%\n"
     ]
    }
   ],
   "execution_count": 4
  },
  {
   "metadata": {
    "ExecuteTime": {
     "end_time": "2025-09-29T01:29:12.843188Z",
     "start_time": "2025-09-29T01:29:12.831130Z"
    }
   },
   "cell_type": "code",
   "source": [
    "# Resumen general de POSTs\n",
    "summary = (\n",
    "    df.groupby(\"test_ok\")\n",
    "      .size()\n",
    "      .reset_index(name=\"count\")\n",
    "      .rename(columns={\"test_ok\": \"cifrado_ok\"})\n",
    ")\n",
    "\n",
    "summary[\"pass_rate_%\"] = (summary[\"count\"] / summary[\"count\"].sum() * 100).round(2)\n",
    "\n",
    "display(summary)"
   ],
   "id": "d701296c52bdac22",
   "outputs": [
    {
     "data": {
      "text/plain": [
       "   cifrado_ok  count  pass_rate_%\n",
       "0        True    246        100.0"
      ],
      "text/html": [
       "<div>\n",
       "<style scoped>\n",
       "    .dataframe tbody tr th:only-of-type {\n",
       "        vertical-align: middle;\n",
       "    }\n",
       "\n",
       "    .dataframe tbody tr th {\n",
       "        vertical-align: top;\n",
       "    }\n",
       "\n",
       "    .dataframe thead th {\n",
       "        text-align: right;\n",
       "    }\n",
       "</style>\n",
       "<table border=\"1\" class=\"dataframe\">\n",
       "  <thead>\n",
       "    <tr style=\"text-align: right;\">\n",
       "      <th></th>\n",
       "      <th>cifrado_ok</th>\n",
       "      <th>count</th>\n",
       "      <th>pass_rate_%</th>\n",
       "    </tr>\n",
       "  </thead>\n",
       "  <tbody>\n",
       "    <tr>\n",
       "      <th>0</th>\n",
       "      <td>True</td>\n",
       "      <td>246</td>\n",
       "      <td>100.0</td>\n",
       "    </tr>\n",
       "  </tbody>\n",
       "</table>\n",
       "</div>"
      ]
     },
     "metadata": {},
     "output_type": "display_data",
     "jetTransient": {
      "display_id": null
     }
    }
   ],
   "execution_count": 9
  }
 ],
 "metadata": {
  "kernelspec": {
   "display_name": "Python 3",
   "language": "python",
   "name": "python3"
  },
  "language_info": {
   "codemirror_mode": {
    "name": "ipython",
    "version": 2
   },
   "file_extension": ".py",
   "mimetype": "text/x-python",
   "name": "python",
   "nbconvert_exporter": "python",
   "pygments_lexer": "ipython2",
   "version": "2.7.6"
  }
 },
 "nbformat": 4,
 "nbformat_minor": 5
}
