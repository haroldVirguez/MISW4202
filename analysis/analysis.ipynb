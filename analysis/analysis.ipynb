{
 "cells": [
  {
   "cell_type": "code",
   "id": "initial_id",
   "metadata": {
    "collapsed": true,
    "ExecuteTime": {
     "end_time": "2025-09-07T18:48:36.671283Z",
     "start_time": "2025-09-07T18:48:36.669150Z"
    }
   },
   "source": [
    "import re, ast, json\n",
    "from pathlib import Path\n",
    "import pandas as pd\n",
    "import matplotlib.pyplot as plt\n",
    "from datetime import datetime\n",
    "from IPython.display import clear_output"
   ],
   "outputs": [],
   "execution_count": 24
  },
  {
   "metadata": {
    "ExecuteTime": {
     "end_time": "2025-09-07T18:48:37.786905Z",
     "start_time": "2025-09-07T18:48:37.782165Z"
    }
   },
   "cell_type": "code",
   "source": [
    "LOG_PATH = Path(\"../logs/celery/worker.log\")   # cambia si tu ruta es distinta\n",
    "OUT_DIR = Path(\"analysis/reports\"); OUT_DIR.mkdir(parents=True, exist_ok=True)\n",
    "\n",
    "pat = re.compile(r\"Task\\s+logistica\\.procesar_entrega\\[(?P<task_id>[^\\]]+)\\]\\s+succeeded\\s+in\\s+(?P<secs>[\\d\\.]+)s:\\s+(?P<payload>\\{.*\\})\")"
   ],
   "id": "5c05c2fa34740b79",
   "outputs": [],
   "execution_count": 25
  },
  {
   "metadata": {
    "ExecuteTime": {
     "end_time": "2025-09-07T18:48:39.228465Z",
     "start_time": "2025-09-07T18:48:39.217256Z"
    }
   },
   "cell_type": "code",
   "source": [
    "rows=[]\n",
    "with LOG_PATH.open(\"r\", encoding=\"utf-8\") as f:\n",
    "    for line in f:\n",
    "        m = pat.search(line)\n",
    "        if not m:\n",
    "            continue\n",
    "        task_id = m.group(\"task_id\").strip()\n",
    "        duration = float(m.group(\"secs\"))\n",
    "        payload_txt = m.group(\"payload\")\n",
    "        try:\n",
    "            payload = ast.literal_eval(payload_txt)\n",
    "        except Exception:\n",
    "            try: payload = json.loads(payload_txt.replace(\"'\", '\"'))\n",
    "            except Exception: payload = {}\n",
    "        rows.append({\n",
    "            \"entrega_id\": payload.get(\"entrega_id\"),\n",
    "            \"task_id\": task_id,\n",
    "            \"status\": payload.get(\"status\"),\n",
    "            \"retry\": payload.get(\"retry_count\"),\n",
    "            \"duration_s\": duration,\n",
    "        })\n",
    "\n",
    "clear_output(wait=True)\n",
    "out = Path(\".\")\n",
    "out.mkdir(parents=True, exist_ok=True)\n",
    "df.to_csv(out / \"worker_durations_simple.csv\", index=False)\n"
   ],
   "id": "f080f859518ad734",
   "outputs": [],
   "execution_count": 26
  },
  {
   "metadata": {
    "ExecuteTime": {
     "end_time": "2025-09-07T18:52:26.833570Z",
     "start_time": "2025-09-07T18:52:26.741089Z"
    }
   },
   "cell_type": "code",
   "source": [
    "print(\"Resumen duración (s):\")\n",
    "print(df[\"duration_s\"].describe(percentiles=[.5,.9,.95,.99]))\n",
    "\n",
    "df = pd.DataFrame(rows, columns=[\"entrega_id\",\"task_id\",\"status\",\"retry\",\"duration_s\"])\\\n",
    "    .sort_values([\"entrega_id\",\"retry\"])\\\n",
    "    .reset_index(drop=True)\n",
    "display(df.head(10))\n",
    "\n",
    "fig, axes = plt.subplots(1, 2, figsize=(12,4))\n",
    "n = len(df)\n",
    "\n",
    "# Histograma\n",
    "axes[0].hist(df[\"duration_s\"], bins=15, edgecolor=\"black\")\n",
    "axes[0].axvline(2, color=\"red\", linestyle=\"--\", label=\"ASR 2s\")\n",
    "axes[0].set_title(f\"Histograma de duración (N={n})\")\n",
    "axes[0].set_xlabel(\"Duración (s)\")\n",
    "axes[0].set_ylabel(\"Frecuencia\")\n",
    "axes[0].legend()\n",
    "\n",
    "# Percentiles\n",
    "percentiles = [50, 90, 95, 99]\n",
    "values = [df[\"duration_s\"].quantile(p/100) for p in percentiles]\n",
    "axes[1].plot(percentiles, values, marker=\"o\")\n",
    "axes[1].axhline(2, color=\"red\", linestyle=\"--\", label=\"ASR 2s\")\n",
    "axes[1].set_title(f\"Duración por percentil (N={n})\")\n",
    "axes[1].set_xlabel(\"Percentil\")\n",
    "axes[1].set_ylabel(\"Duración (s)\")\n",
    "axes[1].set_xticks(percentiles)\n",
    "axes[1].legend()\n",
    "\n",
    "plt.tight_layout()\n",
    "plt.show()"
   ],
   "id": "c6ed9243d5afe404",
   "outputs": [
    {
     "name": "stdout",
     "output_type": "stream",
     "text": [
      "Resumen duración (s):\n",
      "count    70.000000\n",
      "mean      1.337762\n",
      "std       0.635210\n",
      "min       0.048588\n",
      "50%       1.446184\n",
      "90%       2.161132\n",
      "95%       2.406937\n",
      "99%       2.716146\n",
      "max       2.739453\n",
      "Name: duration_s, dtype: float64\n"
     ]
    },
    {
     "data": {
      "text/plain": [
       "    entrega_id                               task_id  \\\n",
       "0           54  db431129-f1cd-43fb-869e-985442429b5c   \n",
       "1           54  73d43c61-7f17-458b-8801-d29ae517a1b4   \n",
       "6           55  21b9ad31-cb3b-420c-baec-455212456b3c   \n",
       "9           55  7643699f-31cc-44f3-a7e8-3011707a443b   \n",
       "3           56  fa352c21-4197-466f-8f19-e468d9d41e7c   \n",
       "10          56  21402cf1-ba37-4394-9d8b-b8ac212248d5   \n",
       "2           57  bfda1ebe-7aba-4402-b736-c5a88b402e6f   \n",
       "4           58  17d2e74a-6856-4c35-a016-5ca1c399c055   \n",
       "7           59  7511e1a9-0324-4c49-815a-88b8b29affe3   \n",
       "16          59  1cb18d2f-147c-46ee-bf4d-9d65a694edac   \n",
       "\n",
       "                         status  retry  duration_s  \n",
       "0   PENDING_SYSTEM_CONFIRMATION      0    1.358902  \n",
       "1                     ENTREGADA      1    0.443931  \n",
       "6   PENDING_SYSTEM_CONFIRMATION      0    2.705675  \n",
       "9                     ENTREGADA      1    0.670368  \n",
       "3   PENDING_SYSTEM_CONFIRMATION      0    2.106614  \n",
       "10                    ENTREGADA      1    0.906506  \n",
       "2                     ENTREGADA      0    0.114172  \n",
       "4                     ENTREGADA      0    1.474696  \n",
       "7   PENDING_SYSTEM_CONFIRMATION      0    1.453324  \n",
       "16                    ENTREGADA      1    1.665463  "
      ],
      "text/html": [
       "<div>\n",
       "<style scoped>\n",
       "    .dataframe tbody tr th:only-of-type {\n",
       "        vertical-align: middle;\n",
       "    }\n",
       "\n",
       "    .dataframe tbody tr th {\n",
       "        vertical-align: top;\n",
       "    }\n",
       "\n",
       "    .dataframe thead th {\n",
       "        text-align: right;\n",
       "    }\n",
       "</style>\n",
       "<table border=\"1\" class=\"dataframe\">\n",
       "  <thead>\n",
       "    <tr style=\"text-align: right;\">\n",
       "      <th></th>\n",
       "      <th>entrega_id</th>\n",
       "      <th>task_id</th>\n",
       "      <th>status</th>\n",
       "      <th>retry</th>\n",
       "      <th>duration_s</th>\n",
       "    </tr>\n",
       "  </thead>\n",
       "  <tbody>\n",
       "    <tr>\n",
       "      <th>0</th>\n",
       "      <td>54</td>\n",
       "      <td>db431129-f1cd-43fb-869e-985442429b5c</td>\n",
       "      <td>PENDING_SYSTEM_CONFIRMATION</td>\n",
       "      <td>0</td>\n",
       "      <td>1.358902</td>\n",
       "    </tr>\n",
       "    <tr>\n",
       "      <th>1</th>\n",
       "      <td>54</td>\n",
       "      <td>73d43c61-7f17-458b-8801-d29ae517a1b4</td>\n",
       "      <td>ENTREGADA</td>\n",
       "      <td>1</td>\n",
       "      <td>0.443931</td>\n",
       "    </tr>\n",
       "    <tr>\n",
       "      <th>6</th>\n",
       "      <td>55</td>\n",
       "      <td>21b9ad31-cb3b-420c-baec-455212456b3c</td>\n",
       "      <td>PENDING_SYSTEM_CONFIRMATION</td>\n",
       "      <td>0</td>\n",
       "      <td>2.705675</td>\n",
       "    </tr>\n",
       "    <tr>\n",
       "      <th>9</th>\n",
       "      <td>55</td>\n",
       "      <td>7643699f-31cc-44f3-a7e8-3011707a443b</td>\n",
       "      <td>ENTREGADA</td>\n",
       "      <td>1</td>\n",
       "      <td>0.670368</td>\n",
       "    </tr>\n",
       "    <tr>\n",
       "      <th>3</th>\n",
       "      <td>56</td>\n",
       "      <td>fa352c21-4197-466f-8f19-e468d9d41e7c</td>\n",
       "      <td>PENDING_SYSTEM_CONFIRMATION</td>\n",
       "      <td>0</td>\n",
       "      <td>2.106614</td>\n",
       "    </tr>\n",
       "    <tr>\n",
       "      <th>10</th>\n",
       "      <td>56</td>\n",
       "      <td>21402cf1-ba37-4394-9d8b-b8ac212248d5</td>\n",
       "      <td>ENTREGADA</td>\n",
       "      <td>1</td>\n",
       "      <td>0.906506</td>\n",
       "    </tr>\n",
       "    <tr>\n",
       "      <th>2</th>\n",
       "      <td>57</td>\n",
       "      <td>bfda1ebe-7aba-4402-b736-c5a88b402e6f</td>\n",
       "      <td>ENTREGADA</td>\n",
       "      <td>0</td>\n",
       "      <td>0.114172</td>\n",
       "    </tr>\n",
       "    <tr>\n",
       "      <th>4</th>\n",
       "      <td>58</td>\n",
       "      <td>17d2e74a-6856-4c35-a016-5ca1c399c055</td>\n",
       "      <td>ENTREGADA</td>\n",
       "      <td>0</td>\n",
       "      <td>1.474696</td>\n",
       "    </tr>\n",
       "    <tr>\n",
       "      <th>7</th>\n",
       "      <td>59</td>\n",
       "      <td>7511e1a9-0324-4c49-815a-88b8b29affe3</td>\n",
       "      <td>PENDING_SYSTEM_CONFIRMATION</td>\n",
       "      <td>0</td>\n",
       "      <td>1.453324</td>\n",
       "    </tr>\n",
       "    <tr>\n",
       "      <th>16</th>\n",
       "      <td>59</td>\n",
       "      <td>1cb18d2f-147c-46ee-bf4d-9d65a694edac</td>\n",
       "      <td>ENTREGADA</td>\n",
       "      <td>1</td>\n",
       "      <td>1.665463</td>\n",
       "    </tr>\n",
       "  </tbody>\n",
       "</table>\n",
       "</div>"
      ]
     },
     "metadata": {},
     "output_type": "display_data",
     "jetTransient": {
      "display_id": null
     }
    },
    {
     "data": {
      "text/plain": [
       "<Figure size 1200x400 with 2 Axes>"
      ],
      "image/png": "[encoded data removed]"
     },
     "metadata": {},
     "output_type": "display_data",
     "jetTransient": {
      "display_id": null
     }
    }
   ],
   "execution_count": 28
  }
 ],
 "metadata": {
  "kernelspec": {
   "display_name": "Python 3",
   "language": "python",
   "name": "python3"
  },
  "language_info": {
   "codemirror_mode": {
    "name": "ipython",
    "version": 2
   },
   "file_extension": ".py",
   "mimetype": "text/x-python",
   "name": "python",
   "nbconvert_exporter": "python",
   "pygments_lexer": "ipython2",
   "version": "2.7.6"
  }
 },
 "nbformat": 4,
 "nbformat_minor": 5
}
